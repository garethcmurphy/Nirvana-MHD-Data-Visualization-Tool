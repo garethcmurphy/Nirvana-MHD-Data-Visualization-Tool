{
 "cells": [
  {
   "cell_type": "code",
   "execution_count": 12,
   "metadata": {
    "collapsed": false
   },
   "outputs": [
    {
     "name": "stderr",
     "output_type": "stream",
     "text": [
      "yt : [INFO     ] 2016-02-10 10:58:04,553 Creating default volume\n",
      "/Users/gmurphy/Library/Python/3.4/lib/python/site-packages/yt-3.3.dev0-py3.4-macosx-10.11-x86_64.egg/yt/utilities/amr_kdtree/amr_kdtree.py:282: RuntimeWarning: invalid value encountered in log10\n",
      "  if self.log_fields[i]: vcd = np.log10(vcd)\n",
      "yt : [INFO     ] 2016-02-10 10:58:05,632 Creating default transfer function\n",
      "yt : [INFO     ] 2016-02-10 10:58:05,632 Calculating data bounds. This may take a while.  Set the .bounds to avoid this.\n",
      "yt : [INFO     ] 2016-02-10 10:58:05,704 Rendering scene (Can take a while).\n",
      "yt : [INFO     ] 2016-02-10 10:58:11,287 Saving render galaxy0030_Render_density.png\n"
     ]
    }
   ],
   "source": [
    "%matplotlib inline \n",
    "\n",
    "import yt\n",
    "import numpy as np\n",
    "from yt.visualization.volume_rendering.transfer_function_helper import TransferFunctionHelper\n",
    "from yt.visualization.volume_rendering.api import Scene, Camera, VolumeSource\n",
    "\n",
    "\n",
    "ds = yt.load(\"IsolatedGalaxy/galaxy0030/galaxy0030\")\n",
    "# Choose a field\n",
    "field = 'density'\n",
    "# Do you want the log of the field?\n",
    "use_log = True\n",
    "\n",
    "# Find the bounds in log space of for your field\n",
    "dd = ds.all_data()\n",
    "mi, ma = dd.quantities.extrema(field)\n",
    "\n",
    "if use_log:\n",
    "    mi,ma = np.log10(mi), np.log10(ma)\n",
    "\n",
    "# Instantiate the ColorTransferfunction.\n",
    "tf = yt.ColorTransferFunction((mi, ma))\n",
    "\n",
    "# Set up the camera parameters: center, looking direction, width, resolution\n",
    "c = (ds.domain_right_edge + ds.domain_left_edge)/2.0\n",
    "L = np.array([1.0, 1.0, 1.0])\n",
    "W = ds.quan(0.3, 'unitary')\n",
    "N = 256\n",
    "\n",
    "im, sc = volume_render(ds, field=('gas', 'density'))\n"
   ]
  },
  {
   "cell_type": "code",
   "execution_count": null,
   "metadata": {
    "collapsed": true
   },
   "outputs": [],
   "source": []
  },
  {
   "cell_type": "code",
   "execution_count": null,
   "metadata": {
    "collapsed": true
   },
   "outputs": [],
   "source": []
  }
 ],
 "metadata": {
  "kernelspec": {
   "display_name": "Python 3",
   "language": "python",
   "name": "python3"
  },
  "language_info": {
   "codemirror_mode": {
    "name": "ipython",
    "version": 3
   },
   "file_extension": ".py",
   "mimetype": "text/x-python",
   "name": "python",
   "nbconvert_exporter": "python",
   "pygments_lexer": "ipython3",
   "version": "3.4.4"
  }
 },
 "nbformat": 4,
 "nbformat_minor": 0
}

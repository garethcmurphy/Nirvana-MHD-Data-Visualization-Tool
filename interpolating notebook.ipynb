{
 "cells": [
  {
   "cell_type": "code",
   "execution_count": null,
   "metadata": {
    "collapsed": true
   },
   "outputs": [],
   "source": [
    "%matplotlib inline\n",
    "import numpy as np\n",
    "import scipy.ndimage\n",
    "import matplotlib.pyplot as plt\n",
    "\n",
    "#-- Generate some data...\n",
    "x, y = np.mgrid[-5:5:0.1, -5:5:0.1]\n",
    "z = np.sqrt(x**2 + y**2) + np.sin(x**2 + y**2)\n",
    "\n",
    "#-- Extract the line...\n",
    "# Make a line with \"num\" points...\n",
    "x0, y0 = 5, 4.5 # These are in _pixel_ coordinates!!\n",
    "x1, y1 = 60, 75\n",
    "num = 1000\n",
    "x, y = np.linspace(x0, x1, num), np.linspace(y0, y1, num)\n",
    "\n",
    "# Extract the values along the line, using cubic interpolation\n",
    "zi = scipy.ndimage.map_coordinates(z, np.vstack((x,y)))\n",
    "\n",
    "#-- Plot...\n",
    "fig, axes = plt.subplots(nrows=2)\n",
    "axes[0].imshow(z)\n",
    "axes[0].plot([x0, x1], [y0, y1], 'ro-')\n",
    "axes[0].axis('image')\n",
    "\n",
    "axes[1].plot(zi)\n",
    "\n",
    "plt.show()"
   ]
  },
  {
   "cell_type": "code",
   "execution_count": null,
   "metadata": {
    "collapsed": true
   },
   "outputs": [],
   "source": []
  },
  {
   "cell_type": "code",
   "execution_count": null,
   "metadata": {
    "collapsed": true
   },
   "outputs": [],
   "source": []
  }
 ],
 "metadata": {
  "kernelspec": {
   "display_name": "Python 3",
   "language": "python",
   "name": "python3"
  },
  "language_info": {
   "codemirror_mode": {
    "name": "ipython",
    "version": 3
   },
   "file_extension": ".py",
   "mimetype": "text/x-python",
   "name": "python",
   "nbconvert_exporter": "python",
   "pygments_lexer": "ipython3",
   "version": "3.4.4"
  }
 },
 "nbformat": 4,
 "nbformat_minor": 0
}
